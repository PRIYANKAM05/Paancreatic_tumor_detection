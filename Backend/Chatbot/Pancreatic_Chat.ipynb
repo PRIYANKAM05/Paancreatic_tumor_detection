{
  "cells": [
    {
      "cell_type": "code",
      "source": [
        "# Import necessary libraries\n",
        "import numpy as np\n",
        "import pandas as pd\n",
        "import random\n",
        "import re\n",
        "import string\n",
        "import nltk\n",
        "nltk.download('punkt')\n",
        "nltk.download('stopwords')\n",
        "nltk.download('wordnet')\n",
        "nltk.download('omw-1.4')\n",
        "nltk.download('punkt_tab')\n",
        "from nltk.tokenize import word_tokenize\n",
        "from nltk.corpus import stopwords\n",
        "from nltk.stem import WordNetLemmatizer\n",
        "from sklearn.feature_extraction.text import CountVectorizer, TfidfVectorizer\n",
        "from sklearn.metrics.pairwise import cosine_similarity\n",
        "\n",
        "# Load dataset\n",
        "df = pd.read_csv(\"/content/Pancreatic chatbot.csv\")\n",
        "df = df.dropna().drop_duplicates()\n",
        "df['Question'] = df['Question'].str.lower()\n",
        "\n",
        "# Function to remove punctuation\n",
        "def remove_punct(text):\n",
        "    translator = str.maketrans('', '', string.punctuation)\n",
        "    return text.translate(translator)\n",
        "\n",
        "# Apply punctuation removal\n",
        "df['Question'] = df['Question'].apply(remove_punct)\n",
        "\n",
        "# Remove stopwords\n",
        "stop = set(stopwords.words('english'))\n",
        "def remove_stopword(text):\n",
        "    word_tokens = word_tokenize(text)\n",
        "    return ' '.join([w for w in word_tokens if w.lower() not in stop])\n",
        "\n",
        "df['Question'] = df['Question'].apply(remove_stopword)\n",
        "\n",
        "# Lemmatization\n",
        "lemmatizer = WordNetLemmatizer()\n",
        "def lemm(text):\n",
        "    tokens = word_tokenize(text)\n",
        "    return ' '.join([lemmatizer.lemmatize(word) for word in tokens])\n",
        "\n",
        "df['Question'] = df['Question'].apply(lemm)\n",
        "\n",
        "# Corpus creation\n",
        "corpus = df['Question'].values\n",
        "\n",
        "# Bag of Words Vectorization\n",
        "bw_vect = CountVectorizer()\n",
        "bw_fit = bw_vect.fit(corpus)\n",
        "bw_corpus = bw_fit.transform(corpus)\n",
        "cv_data = pd.DataFrame(bw_corpus.toarray(), columns=bw_fit.get_feature_names_out())\n",
        "\n",
        "# TF-IDF Vectorization\n",
        "tfidf_vect = TfidfVectorizer(max_features=5000)\n",
        "tfidf_fit = tfidf_vect.fit(corpus)\n",
        "tfidf_corpus = tfidf_fit.transform(corpus)\n"
      ],
      "metadata": {
        "colab": {
          "base_uri": "https://localhost:8080/"
        },
        "id": "qlJLQDZwKw-Q",
        "outputId": "ceb02c29-d1af-4493-f46a-57575fc5205f"
      },
      "id": "qlJLQDZwKw-Q",
      "execution_count": 5,
      "outputs": [
        {
          "output_type": "stream",
          "name": "stderr",
          "text": [
            "[nltk_data] Downloading package punkt to /root/nltk_data...\n",
            "[nltk_data]   Package punkt is already up-to-date!\n",
            "[nltk_data] Downloading package stopwords to /root/nltk_data...\n",
            "[nltk_data]   Package stopwords is already up-to-date!\n",
            "[nltk_data] Downloading package wordnet to /root/nltk_data...\n",
            "[nltk_data]   Package wordnet is already up-to-date!\n",
            "[nltk_data] Downloading package omw-1.4 to /root/nltk_data...\n",
            "[nltk_data]   Package omw-1.4 is already up-to-date!\n",
            "[nltk_data] Downloading package punkt_tab to /root/nltk_data...\n",
            "[nltk_data]   Unzipping tokenizers/punkt_tab.zip.\n"
          ]
        }
      ]
    },
    {
      "cell_type": "code",
      "execution_count": 8,
      "id": "1ab34b8f",
      "metadata": {
        "id": "1ab34b8f"
      },
      "outputs": [],
      "source": [
        "\n",
        "# Additional data cleaning function for chatbot input\n",
        "def clean_data(text):\n",
        "    # Remove unwanted characters\n",
        "    text = re.sub(r\"[\\([{})\\]]\", \" \", text)\n",
        "    # Tokenize and lemmatize\n",
        "    tokens = text.split()\n",
        "    tokens = [lemmatizer.lemmatize(word) for word in tokens]\n",
        "    return \" \".join(tokens)\n",
        "\n",
        "# Define greeting responses\n",
        "welcome_responses = ['hi', 'hey', 'hello', 'greetings']\n",
        "\n",
        "# Chatbot response function\n",
        "def chatbot_response(user_input):\n",
        "    # Greeting response\n",
        "    if any(word.lower() in welcome_responses for word in user_input.split()):\n",
        "        return random.choice(welcome_responses)\n",
        "\n",
        "    # Clean user input\n",
        "    user_input = clean_data(user_input)\n",
        "    # Transform input question using TF-IDF\n",
        "    tfidf_test = tfidf_fit.transform([user_input])\n",
        "    # Calculate cosine similarity between user input and corpus\n",
        "    cosine_similarities = cosine_similarity(tfidf_test, tfidf_corpus).flatten()\n",
        "\n",
        "    # Find the index of the most similar question\n",
        "    highest_similarity_index = cosine_similarities.argmax()\n",
        "    if cosine_similarities[highest_similarity_index] == 0:\n",
        "        return \"I'm sorry, I don't have an answer for that.\"\n",
        "\n",
        "    # Retrieve the answer\n",
        "    return df.iloc[highest_similarity_index]['Answer']\n",
        "\n",
        "\n"
      ]
    },
    {
      "cell_type": "code",
      "source": [
        "# Example usage\n",
        "sample_question = \"How is pancreatic cancer diagnosed?\"\n",
        "response = chatbot_response(sample_question)\n",
        "print(response)"
      ],
      "metadata": {
        "colab": {
          "base_uri": "https://localhost:8080/"
        },
        "id": "709Q6D-2QGSM",
        "outputId": "75b618c3-456c-4823-f1bd-aa2144df1bb1"
      },
      "id": "709Q6D-2QGSM",
      "execution_count": 9,
      "outputs": [
        {
          "output_type": "stream",
          "name": "stdout",
          "text": [
            "Diagnosis includes imaging tests like CT, MRI, and PET scans, along with biopsy and tumor marker tests.\n"
          ]
        }
      ]
    },
    {
      "cell_type": "code",
      "source": [
        "import joblib\n",
        "\n",
        "# Save TF-IDF vectorizer\n",
        "joblib.dump(tfidf_fit, 'tfidf_vectorizer.pkl')\n",
        "\n",
        "# Save the TF-IDF corpus matrix\n",
        "joblib.dump(tfidf_corpus, 'tfidf_corpus.pkl')\n",
        "\n",
        "# Save the dataframe with questions and answers\n",
        "df.to_csv('questions_answers.csv', index=False)"
      ],
      "metadata": {
        "id": "UDIFuy7cSjbd"
      },
      "id": "UDIFuy7cSjbd",
      "execution_count": 10,
      "outputs": []
    },
    {
      "cell_type": "code",
      "source": [
        "import joblib\n",
        "import pandas as pd\n",
        "from sklearn.metrics.pairwise import cosine_similarity\n",
        "import random\n",
        "import re\n",
        "import nltk\n",
        "nltk.download('punkt')\n",
        "nltk.download('stopwords')\n",
        "nltk.download('wordnet')\n",
        "nltk.download('omw-1.4')\n",
        "from nltk.stem import WordNetLemmatizer\n",
        "lemmatizer = WordNetLemmatizer()\n",
        "# Load the saved TF-IDF vectorizer, TF-IDF corpus, and dataframe\n",
        "tfidf_fit = joblib.load('tfidf_vectorizer.pkl')\n",
        "tfidf_corpus = joblib.load('tfidf_corpus.pkl')\n",
        "df = pd.read_csv('questions_answers.csv')\n",
        "\n",
        "# Redefine welcome responses and chatbot response function\n",
        "welcome_responses = ['hi', 'hey', 'hello', 'greetings']\n",
        "def clean_data(text):\n",
        "    # Remove unwanted characters\n",
        "    text = re.sub(r\"[\\([{})\\]]\", \" \", text)\n",
        "    # Tokenize and lemmatize\n",
        "    tokens = text.split()\n",
        "    tokens = [lemmatizer.lemmatize(word) for word in tokens]\n",
        "    return \" \".join(tokens)\n",
        "def chatbot_response(user_input):\n",
        "    # Greeting response\n",
        "    if any(word.lower() in welcome_responses for word in user_input.split()):\n",
        "        return random.choice(welcome_responses)\n",
        "\n",
        "    # Clean user input\n",
        "    user_input = clean_data(user_input)\n",
        "    # Transform input question using TF-IDF\n",
        "    tfidf_test = tfidf_fit.transform([user_input])\n",
        "    # Calculate cosine similarity between user input and corpus\n",
        "    cosine_similarities = cosine_similarity(tfidf_test, tfidf_corpus).flatten()\n",
        "\n",
        "    # Find the index of the most similar question\n",
        "    highest_similarity_index = cosine_similarities.argmax()\n",
        "    if cosine_similarities[highest_similarity_index] == 0:\n",
        "        return \"I'm sorry, I don't have an answer for that.\"\n",
        "\n",
        "    # Retrieve the answer\n",
        "    return df.iloc[highest_similarity_index]['Answer']\n",
        "\n",
        "# Example usage\n",
        "sample_question = \"How is pancreatic cancer diagnosed?\"\n",
        "response = chatbot_response(sample_question)\n",
        "print(response)\n"
      ],
      "metadata": {
        "colab": {
          "base_uri": "https://localhost:8080/"
        },
        "id": "oKtP03vQSnV1",
        "outputId": "5940e0f1-b9a2-4ad4-95c3-fc0d2dc3d036"
      },
      "id": "oKtP03vQSnV1",
      "execution_count": 13,
      "outputs": [
        {
          "output_type": "stream",
          "name": "stdout",
          "text": [
            "Diagnosis includes imaging tests like CT, MRI, and PET scans, along with biopsy and tumor marker tests.\n"
          ]
        },
        {
          "output_type": "stream",
          "name": "stderr",
          "text": [
            "[nltk_data] Downloading package punkt to /root/nltk_data...\n",
            "[nltk_data]   Package punkt is already up-to-date!\n",
            "[nltk_data] Downloading package stopwords to /root/nltk_data...\n",
            "[nltk_data]   Package stopwords is already up-to-date!\n",
            "[nltk_data] Downloading package wordnet to /root/nltk_data...\n",
            "[nltk_data]   Package wordnet is already up-to-date!\n",
            "[nltk_data] Downloading package omw-1.4 to /root/nltk_data...\n",
            "[nltk_data]   Package omw-1.4 is already up-to-date!\n"
          ]
        }
      ]
    },
    {
      "cell_type": "code",
      "source": [],
      "metadata": {
        "id": "bXjbEMeUSngW"
      },
      "id": "bXjbEMeUSngW",
      "execution_count": null,
      "outputs": []
    }
  ],
  "metadata": {
    "kernelspec": {
      "display_name": "Python 3",
      "name": "python3"
    },
    "language_info": {
      "codemirror_mode": {
        "name": "ipython",
        "version": 3
      },
      "file_extension": ".py",
      "mimetype": "text/x-python",
      "name": "python",
      "nbconvert_exporter": "python",
      "pygments_lexer": "ipython3",
      "version": "3.11.5"
    },
    "colab": {
      "provenance": [],
      "gpuType": "T4"
    },
    "accelerator": "GPU"
  },
  "nbformat": 4,
  "nbformat_minor": 5
}